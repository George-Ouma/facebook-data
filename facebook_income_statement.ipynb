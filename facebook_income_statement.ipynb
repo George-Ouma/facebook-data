{
 "cells": [
  {
   "cell_type": "code",
   "execution_count": 1,
   "metadata": {},
   "outputs": [],
   "source": [
    "import requests\n",
    "from bs4 import BeautifulSoup\n",
    "import pandas as pd\n",
    "import re"
   ]
  },
  {
   "cell_type": "code",
   "execution_count": 2,
   "metadata": {},
   "outputs": [],
   "source": [
    "page = requests.get('https://finance.yahoo.com/quote/FB/financials?p=FB')\n",
    "soup = BeautifulSoup(page.content, 'html.parser')\n",
    "#print(soup.prettify())"
   ]
  },
  {
   "cell_type": "code",
   "execution_count": 4,
   "metadata": {},
   "outputs": [
    {
     "name": "stdout",
     "output_type": "stream",
     "text": [
      "['Breakdown', 'ttm', '12/31/2020', '12/31/2019', '12/31/2018', '12/31/2017']\n"
     ]
    }
   ],
   "source": [
    "div1 = soup.find('div', class_ = \"D(tbr) C($primaryColor)\")\n",
    "headers = [hd.get_text() for hd in div1.find_all('span')]\n",
    "print(headers)\n"
   ]
  },
  {
   "cell_type": "code",
   "execution_count": 5,
   "metadata": {},
   "outputs": [
    {
     "name": "stdout",
     "output_type": "stream",
     "text": [
      "['Total Revenue', 'Cost of Revenue', 'Gross Profit', 'Operating Expense', 'Operating Income', 'Net Non Operating Interest Income Expense', 'Other Income Expense', 'Pretax Income', 'Tax Provision', 'Net Income Common Stockholders', 'Average Dilution Earnings', 'Diluted NI Available to Com Stockholders', 'Basic EPS', 'Diluted EPS', 'Basic Average Shares', 'Diluted Average Shares', 'Total Operating Income as Reported', 'Total Expenses', 'Net Income from Continuing & Discontinued Operation', 'Normalized Income', 'Interest Income', 'Interest Expense', 'Net Interest Income', 'EBIT', 'EBITDA', 'Reconciled Cost of Revenue', 'Reconciled Depreciation', 'Net Income from Continuing Operation Net Minority Interest', 'Total Unusual Items Excluding Goodwill', 'Total Unusual Items', 'Normalized EBITDA', 'Tax Rate for Calcs', 'Tax Effect of Unusual Items']\n"
     ]
    }
   ],
   "source": [
    "div2 = soup.find('div', class_ = \"D(tbrg)\")\n",
    "#print(div2)\n",
    "\n",
    "breakdown = [bd.get_text() for bd in div2.find_all('span', class_ = \"Va(m)\")]\n",
    "print(breakdown)\n"
   ]
  },
  {
   "cell_type": "code",
   "execution_count": 6,
   "metadata": {},
   "outputs": [],
   "source": [
    "three_cols = [bd.get_text() for bd in div2.find_all('div', class_ = \"Ta(c) Py(6px) Bxz(bb) BdB Bdc($seperatorColor) Miw(120px) Miw(140px)--pnclg Bgc($lv1BgColor) fi-row:h_Bgc($hoverBgColor) D(tbc)\")]\n",
    "ttm = three_cols[::3]\n",
    "#print(ttm[:3])\n",
    "\n",
    "col19 = three_cols[1::3]\n",
    "#print(col19[:3])\n",
    "\n",
    "col17 = three_cols[2::3]\n",
    "#print(col17[:3])\n"
   ]
  },
  {
   "cell_type": "code",
   "execution_count": 7,
   "metadata": {},
   "outputs": [],
   "source": [
    "two_cols = [bd.get_text() for bd in div2.find_all('div', class_ = \"Ta(c) Py(6px) Bxz(bb) BdB Bdc($seperatorColor) Miw(120px) Miw(140px)--pnclg D(tbc)\")]\n",
    "#print(two_cols)\n",
    "\n",
    "col20 = two_cols[::2]\n",
    "#print(col20)[:3]\n",
    "\n",
    "col18 = two_cols[1::2]\n",
    "#print(col18)[:3]"
   ]
  },
  {
   "cell_type": "code",
   "execution_count": 9,
   "metadata": {},
   "outputs": [
    {
     "name": "stdout",
     "output_type": "stream",
     "text": [
      "                                   Breakdown         TTM  12/31/2020  \\\n",
      "0                              Total Revenue  73,357,000  85,965,000   \n",
      "1                            Cost of Revenue  13,413,000  16,692,000   \n",
      "2                               Gross Profit  59,944,000  69,273,000   \n",
      "3                          Operating Expense  33,382,000  36,602,000   \n",
      "4                           Operating Income  26,562,000  32,671,000   \n",
      "5  Net Non Operating Interest Income Expense     934,000     672,000   \n",
      "6                       Other Income Expense    -305,000    -163,000   \n",
      "7                              Pretax Income  27,191,000  33,180,000   \n",
      "8                              Tax Provision   6,233,000   4,034,000   \n",
      "9             Net Income Common Stockholders  20,958,000  29,146,000   \n",
      "\n",
      "   12/31/2019  12/31/2018  12/31/2017  \n",
      "0  70,697,000  55,838,000  40,653,000  \n",
      "1  12,770,000   9,355,000   5,454,000  \n",
      "2  57,927,000  46,483,000  35,199,000  \n",
      "3  33,941,000  21,570,000  14,996,000  \n",
      "4  23,986,000  24,913,000  20,203,000  \n",
      "5     904,000     652,000     392,000  \n",
      "6     -78,000    -204,000      -1,000  \n",
      "7  24,812,000  25,361,000  20,594,000  \n",
      "8   6,327,000   3,249,000   4,660,000  \n",
      "9  18,485,000  22,111,000  15,920,000  \n"
     ]
    }
   ],
   "source": [
    "\n",
    "data = {\n",
    "    'Breakdown': breakdown,\n",
    "    'TTM': ttm,\n",
    "    '12/31/2020': col20,\n",
    "    '12/31/2019': col19,\n",
    "    '12/31/2018': col18,\n",
    "    '12/31/2017': col17\n",
    "}\n",
    "\n",
    "\n",
    "df = pd.DataFrame(data)\n",
    "print(df.head(10))\n",
    "df.to_excel('facebook_income_statement.xlsx')"
   ]
  }
 ],
 "metadata": {
  "kernelspec": {
   "display_name": "Python 3",
   "language": "python",
   "name": "python3"
  },
  "language_info": {
   "codemirror_mode": {
    "name": "ipython",
    "version": 3
   },
   "file_extension": ".py",
   "mimetype": "text/x-python",
   "name": "python",
   "nbconvert_exporter": "python",
   "pygments_lexer": "ipython3",
   "version": "3.8.5"
  }
 },
 "nbformat": 4,
 "nbformat_minor": 4
}
